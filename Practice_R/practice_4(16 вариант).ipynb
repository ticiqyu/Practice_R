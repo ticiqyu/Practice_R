{
 "cells": [
  {
   "cell_type": "code",
   "execution_count": 1,
   "metadata": {
    "collapsed": false
   },
   "outputs": [
    {
     "name": "stdout",
     "output_type": "stream",
     "text": [
      "Defaulting to user installation because normal site-packages is not writeable\r\n"
     ]
    },
    {
     "name": "stdout",
     "output_type": "stream",
     "text": [
      "Requirement already satisfied: pandas in /usr/local/lib/python3.8/dist-packages (1.2.4)\r\n",
      "Requirement already satisfied: numpy>=1.16.5 in /usr/local/lib/python3.8/dist-packages (from pandas) (1.19.5)\r\n",
      "Requirement already satisfied: pytz>=2017.3 in /usr/lib/python3/dist-packages (from pandas) (2019.3)\r\n",
      "Requirement already satisfied: python-dateutil>=2.7.3 in /usr/local/lib/python3.8/dist-packages (from pandas) (2.8.1)\r\n",
      "Requirement already satisfied: six>=1.5 in /usr/local/lib/python3.8/dist-packages (from python-dateutil>=2.7.3->pandas) (1.15.0)\r\n"
     ]
    },
    {
     "name": "stdout",
     "output_type": "stream",
     "text": [
      "Defaulting to user installation because normal site-packages is not writeable\r\n"
     ]
    },
    {
     "name": "stdout",
     "output_type": "stream",
     "text": [
      "Requirement already satisfied: sklearn in /usr/local/lib/python3.8/dist-packages (0.0)\r\n",
      "Requirement already satisfied: scikit-learn in /usr/local/lib/python3.8/dist-packages (from sklearn) (0.24.1)\r\n",
      "Requirement already satisfied: numpy>=1.13.3 in /usr/local/lib/python3.8/dist-packages (from scikit-learn->sklearn) (1.19.5)\r\n",
      "Requirement already satisfied: threadpoolctl>=2.0.0 in /usr/local/lib/python3.8/dist-packages (from scikit-learn->sklearn) (2.0.0)\r\n",
      "Requirement already satisfied: scipy>=0.19.1 in /usr/local/lib/python3.8/dist-packages (from scikit-learn->sklearn) (1.6.2)\r\n",
      "Requirement already satisfied: joblib>=0.11 in /usr/local/lib/python3.8/dist-packages (from scikit-learn->sklearn) (1.0.1)\r\n"
     ]
    }
   ],
   "source": [
    "!pip install pandas\n",
    "!pip install sklearn"
   ]
  },
  {
   "cell_type": "code",
   "execution_count": 2,
   "metadata": {
    "collapsed": false
   },
   "outputs": [
    {
     "data": {
      "text/html": [
       "<div>\n",
       "<style scoped>\n",
       "    .dataframe tbody tr th:only-of-type {\n",
       "        vertical-align: middle;\n",
       "    }\n",
       "\n",
       "    .dataframe tbody tr th {\n",
       "        vertical-align: top;\n",
       "    }\n",
       "\n",
       "    .dataframe thead th {\n",
       "        text-align: right;\n",
       "    }\n",
       "</style>\n",
       "<table border=\"1\" class=\"dataframe\">\n",
       "  <thead>\n",
       "    <tr style=\"text-align: right;\">\n",
       "      <th></th>\n",
       "      <th>race/ethnicity</th>\n",
       "      <th>parental level of education</th>\n",
       "      <th>lunch</th>\n",
       "      <th>test preparation course</th>\n",
       "      <th>math score</th>\n",
       "      <th>reading score</th>\n",
       "    </tr>\n",
       "    <tr>\n",
       "      <th>gender</th>\n",
       "      <th></th>\n",
       "      <th></th>\n",
       "      <th></th>\n",
       "      <th></th>\n",
       "      <th></th>\n",
       "      <th></th>\n",
       "    </tr>\n",
       "  </thead>\n",
       "  <tbody>\n",
       "    <tr>\n",
       "      <th>female</th>\n",
       "      <td>1</td>\n",
       "      <td>3</td>\n",
       "      <td>1</td>\n",
       "      <td>0</td>\n",
       "      <td>72</td>\n",
       "      <td>72</td>\n",
       "    </tr>\n",
       "    <tr>\n",
       "      <th>female</th>\n",
       "      <td>2</td>\n",
       "      <td>0</td>\n",
       "      <td>1</td>\n",
       "      <td>1</td>\n",
       "      <td>69</td>\n",
       "      <td>90</td>\n",
       "    </tr>\n",
       "    <tr>\n",
       "      <th>female</th>\n",
       "      <td>1</td>\n",
       "      <td>5</td>\n",
       "      <td>1</td>\n",
       "      <td>0</td>\n",
       "      <td>90</td>\n",
       "      <td>95</td>\n",
       "    </tr>\n",
       "    <tr>\n",
       "      <th>male</th>\n",
       "      <td>0</td>\n",
       "      <td>4</td>\n",
       "      <td>0</td>\n",
       "      <td>0</td>\n",
       "      <td>47</td>\n",
       "      <td>57</td>\n",
       "    </tr>\n",
       "    <tr>\n",
       "      <th>male</th>\n",
       "      <td>2</td>\n",
       "      <td>0</td>\n",
       "      <td>1</td>\n",
       "      <td>0</td>\n",
       "      <td>76</td>\n",
       "      <td>78</td>\n",
       "    </tr>\n",
       "    <tr>\n",
       "      <th>...</th>\n",
       "      <td>...</td>\n",
       "      <td>...</td>\n",
       "      <td>...</td>\n",
       "      <td>...</td>\n",
       "      <td>...</td>\n",
       "      <td>...</td>\n",
       "    </tr>\n",
       "    <tr>\n",
       "      <th>female</th>\n",
       "      <td>4</td>\n",
       "      <td>5</td>\n",
       "      <td>1</td>\n",
       "      <td>1</td>\n",
       "      <td>88</td>\n",
       "      <td>99</td>\n",
       "    </tr>\n",
       "    <tr>\n",
       "      <th>male</th>\n",
       "      <td>2</td>\n",
       "      <td>2</td>\n",
       "      <td>0</td>\n",
       "      <td>0</td>\n",
       "      <td>62</td>\n",
       "      <td>55</td>\n",
       "    </tr>\n",
       "    <tr>\n",
       "      <th>female</th>\n",
       "      <td>2</td>\n",
       "      <td>2</td>\n",
       "      <td>0</td>\n",
       "      <td>1</td>\n",
       "      <td>59</td>\n",
       "      <td>71</td>\n",
       "    </tr>\n",
       "    <tr>\n",
       "      <th>female</th>\n",
       "      <td>3</td>\n",
       "      <td>0</td>\n",
       "      <td>1</td>\n",
       "      <td>1</td>\n",
       "      <td>68</td>\n",
       "      <td>78</td>\n",
       "    </tr>\n",
       "    <tr>\n",
       "      <th>female</th>\n",
       "      <td>3</td>\n",
       "      <td>0</td>\n",
       "      <td>0</td>\n",
       "      <td>0</td>\n",
       "      <td>77</td>\n",
       "      <td>86</td>\n",
       "    </tr>\n",
       "  </tbody>\n",
       "</table>\n",
       "<p>1000 rows × 6 columns</p>\n",
       "</div>"
      ],
      "text/plain": [
       "       race/ethnicity parental level of education  lunch  \\\n",
       "gender                                                     \n",
       "female              1                           3      1   \n",
       "female              2                           0      1   \n",
       "female              1                           5      1   \n",
       "male                0                           4      0   \n",
       "male                2                           0      1   \n",
       "...               ...                         ...    ...   \n",
       "female              4                           5      1   \n",
       "male                2                           2      0   \n",
       "female              2                           2      0   \n",
       "female              3                           0      1   \n",
       "female              3                           0      0   \n",
       "\n",
       "        test preparation course  math score  reading score  \n",
       "gender                                                      \n",
       "female                        0          72             72  \n",
       "female                        1          69             90  \n",
       "female                        0          90             95  \n",
       "male                          0          47             57  \n",
       "male                          0          76             78  \n",
       "...                         ...         ...            ...  \n",
       "female                        1          88             99  \n",
       "male                          0          62             55  \n",
       "female                        1          59             71  \n",
       "female                        1          68             78  \n",
       "female                        0          77             86  \n",
       "\n",
       "[1000 rows x 6 columns]"
      ]
     },
     "execution_count": 2,
     "metadata": {
     },
     "output_type": "execute_result"
    }
   ],
   "source": [
    "import pandas\n",
    "import numpy as np\n",
    "import warnings\n",
    "warnings.filterwarnings('ignore')\n",
    "data = pandas.read_csv('StudentsPerformance.csv', index_col='gender')\n",
    "data_sel = data.loc[:, data.columns.isin(['gender', 'race/ethnicity', 'parental level of education', \n",
    "                                          'lunch', 'test preparation course', 'math score', 'reading score','writing score'])]\n",
    "data_sel['test preparation course'] = np.where(data_sel['test preparation course'] == 'none', 0, 1)\n",
    "\n",
    "data_sel['lunch'] = np.where(data_sel['lunch'] == 'free/reduced', 0,1)\n",
    "\n",
    "data_sel['race/ethnicity'] = np.where(data_sel['race/ethnicity'] == 'group A',  0, data_sel['race/ethnicity'])\n",
    "data_sel['race/ethnicity'] = np.where(data_sel['race/ethnicity'] == 'group B',  1, data_sel['race/ethnicity'])\n",
    "data_sel['race/ethnicity'] = np.where(data_sel['race/ethnicity'] == 'group C',  2, data_sel['race/ethnicity'])\n",
    "data_sel['race/ethnicity'] = np.where(data_sel['race/ethnicity'] == 'group D',  3, data_sel['race/ethnicity'])\n",
    "data_sel['race/ethnicity'] = np.where(data_sel['race/ethnicity'] == 'group E',  4, data_sel['race/ethnicity'])\n",
    "\n",
    "data_sel['parental level of education'] = np.where(data_sel['parental level of education'] == 'some college',  0, data_sel['parental level of education'])\n",
    "data_sel['parental level of education'] = np.where(data_sel['parental level of education'] == 'some high school',  1, data_sel['parental level of education'])\n",
    "data_sel['parental level of education'] = np.where(data_sel['parental level of education'] == 'high school',  2, data_sel['parental level of education'])\n",
    "data_sel['parental level of education'] = np.where(data_sel['parental level of education'] == \"bachelor's degree\",  3, data_sel['parental level of education'])\n",
    "data_sel['parental level of education'] = np.where(data_sel['parental level of education'] == \"associate's degree\",  4, data_sel['parental level of education'])\n",
    "data_sel['parental level of education'] = np.where(data_sel['parental level of education'] == \"master's degree\",  5, data_sel['parental level of education'])\n",
    "\n",
    "data_sel = data_sel.dropna()\n",
    "data_sel['writing score'] = np.where(data_sel['writing score'] > np.average(data_sel['writing score']) , 0, 1)\n",
    "writing_score = data_sel.loc[:, data_sel.columns.isin(['writing score'])]\n",
    "X = data_sel.loc[:, data_sel.columns.isin(['gender', 'race/ethnicity', 'parental level of education', 'lunch', \n",
    "                                           'test preparation course', 'math score', 'reading score'])]\n",
    "X"
   ]
  },
  {
   "cell_type": "code",
   "execution_count": 5,
   "metadata": {
    "collapsed": false
   },
   "outputs": [
    {
     "data": {
      "text/plain": [
       "GridSearchCV(estimator=SVC(),\n",
       "             param_grid={'C': (0.25, 0.5, 0.75, 1),\n",
       "                         'decision_function_shape': ('ovo', 'ovr'),\n",
       "                         'gamma': (1, 2, 3, 'auto'),\n",
       "                         'kernel': ('linear', 'rbf'),\n",
       "                         'shrinking': (True, False)})"
      ]
     },
     "execution_count": 5,
     "metadata": {
     },
     "output_type": "execute_result"
    }
   ],
   "source": [
    "#опорные векторы\n",
    "from sklearn.model_selection import train_test_split\n",
    "x_train, x_validation, y_train, y_validation = train_test_split(X, writing_score, test_size=.33, random_state=5)\n",
    "from sklearn.model_selection import StratifiedShuffleSplit\n",
    "from sklearn.model_selection import cross_val_score\n",
    "from sklearn.model_selection import GridSearchCV\n",
    "from sklearn.preprocessing import StandardScaler\n",
    "from sklearn.svm import SVC\n",
    "\n",
    "svm = SVC()\n",
    "parameters = {'kernel':('linear', 'rbf'), 'C':(0.25,0.5,0.75,1),'gamma': (1,2,3,'auto'),'decision_function_shape':('ovo','ovr'),'shrinking':(True,False)}\n",
    "clf = GridSearchCV(svm, parameters)\n",
    "clf.fit(x_train,y_train)"
   ]
  },
  {
   "cell_type": "code",
   "execution_count": 6,
   "metadata": {
    "collapsed": false
   },
   "outputs": [
    {
     "name": "stdout",
     "output_type": "stream",
     "text": [
      "f1:0.9144850613243941\n"
     ]
    },
    {
     "name": "stdout",
     "output_type": "stream",
     "text": [
      "precision:0.920411613960001\n"
     ]
    },
    {
     "name": "stdout",
     "output_type": "stream",
     "text": [
      "recall:0.9142857142857143\n"
     ]
    }
   ],
   "source": [
    "print(\"f1:\"+str(np.average(cross_val_score(clf, x_validation, y_validation, scoring='f1'))))\n",
    "print(\"precision:\"+str(np.average(cross_val_score(clf, x_validation, y_validation, scoring='precision'))))\n",
    "print(\"recall:\"+str(np.average(cross_val_score(clf, x_validation, y_validation, scoring='recall'))))"
   ]
  },
  {
   "cell_type": "code",
   "execution_count": 7,
   "metadata": {
    "collapsed": false
   },
   "outputs": [
    {
     "data": {
      "text/plain": [
       "GridSearchCV(cv=5, estimator=RandomForestClassifier(),\n",
       "             param_grid={'criterion': ['gini'],\n",
       "                         'max_depth': [1, 2, 3, 4, 5, 6, 7, 8, 9],\n",
       "                         'max_features': ['auto'],\n",
       "                         'n_estimators': [50, 100, 150]})"
      ]
     },
     "execution_count": 7,
     "metadata": {
     },
     "output_type": "execute_result"
    }
   ],
   "source": [
    "#случайный лес\n",
    "from sklearn.ensemble import RandomForestClassifier \n",
    "param_grid = { 'n_estimators': [50,100,150],'max_features': ['auto'],'max_depth' : list(range(1, 10)), 'criterion' :['gini']}\n",
    "RFC = GridSearchCV(estimator=RandomForestClassifier(), param_grid=param_grid, cv= 5, refit = True) \n",
    "RFC.fit(x_train,y_train)"
   ]
  },
  {
   "cell_type": "code",
   "execution_count": 10,
   "metadata": {
    "collapsed": false
   },
   "outputs": [
    {
     "name": "stdout",
     "output_type": "stream",
     "text": [
      "f1:0.913311163073254\n"
     ]
    },
    {
     "name": "stdout",
     "output_type": "stream",
     "text": [
      "precision:0.9454301075268818\n"
     ]
    },
    {
     "name": "stdout",
     "output_type": "stream",
     "text": [
      "recall:0.9085714285714286\n"
     ]
    }
   ],
   "source": [
    "print(\"f1:\"+str(np.average(cross_val_score(RFC.best_estimator_, x_validation, y_validation, scoring='f1'))))\n",
    "print(\"precision:\"+str(np.average(cross_val_score(RFC.best_estimator_, x_validation, y_validation,scoring='precision'))))\n",
    "print(\"recall:\"+str(np.average(cross_val_score(RFC.best_estimator_, x_validation, y_validation, scoring='recall'))))"
   ]
  },
  {
   "cell_type": "code",
   "execution_count": 0,
   "metadata": {
    "collapsed": false
   },
   "outputs": [
   ],
   "source": [
   ]
  }
 ],
 "metadata": {
  "kernelspec": {
   "display_name": "Python 3 (system-wide)",
   "language": "python",
   "metadata": {
    "cocalc": {
     "description": "Python 3 programming language",
     "priority": 100,
     "url": "https://www.python.org/"
    }
   },
   "name": "python3",
   "resource_dir": "/ext/jupyter/kernels/python3"
  },
  "language_info": {
   "codemirror_mode": {
    "name": "ipython",
    "version": 3
   },
   "file_extension": ".py",
   "mimetype": "text/x-python",
   "name": "python",
   "nbconvert_exporter": "python",
   "pygments_lexer": "ipython3",
   "version": "3.8.5"
  }
 },
 "nbformat": 4,
 "nbformat_minor": 4
}